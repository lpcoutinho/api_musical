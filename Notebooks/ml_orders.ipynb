{
 "cells": [
  {
   "cell_type": "code",
   "execution_count": 1,
   "metadata": {},
   "outputs": [],
   "source": [
    "import json\n",
    "import os\n",
    "import time\n",
    "from pandas import json_normalize\n",
    "import psycopg2\n",
    "from psycopg2 import sql\n",
    "\n",
    "import pandas as pd\n",
    "import requests\n",
    "from dotenv import load_dotenv\n",
    "\n",
    "load_dotenv()\n",
    "\n",
    "access_token = os.getenv(\"ACCESS_TOKEN\")\n",
    "HOST = os.getenv(\"HOST\")\n",
    "POSTGRES_DB = os.getenv(\"POSTGRES_DB\")\n",
    "POSTGRES_USER = os.getenv(\"POSTGRES_USER\")\n",
    "POSTGRES_PASSWORD = os.getenv(\"POSTGRES_PASSWORD\")\n",
    "\n",
    "\n",
    "# Informações de conexão com o banco de dados PostgreSQL\n",
    "db_config = {\n",
    "    \"host\": \"localhost\",\n",
    "    \"database\": POSTGRES_DB,\n",
    "    \"user\": POSTGRES_USER,\n",
    "    \"password\": POSTGRES_PASSWORD,\n",
    "}\n",
    "\n",
    "# Registra o tempo antes da execução\n",
    "start_prog = time.time()"
   ]
  },
  {
   "cell_type": "code",
   "execution_count": 2,
   "metadata": {},
   "outputs": [
    {
     "name": "stdout",
     "output_type": "stream",
     "text": [
      "APP_USR-6628000663056293-110612-a39a51193dac91a77f8fc723fb937f6d-233632476\n"
     ]
    }
   ],
   "source": [
    "print(access_token)"
   ]
  },
  {
   "cell_type": "markdown",
   "metadata": {},
   "source": [
    "## Verificando dados da conta"
   ]
  },
  {
   "cell_type": "code",
   "execution_count": null,
   "metadata": {},
   "outputs": [],
   "source": [
    "url = \"https://api.mercadolibre.com/users/me\"\n",
    "\n",
    "payload = {}\n",
    "headers = {\n",
    "  'Authorization': f'Bearer {access_token}'\n",
    "}\n",
    "\n",
    "response = requests.request(\"GET\", url, headers=headers, data=payload)\n",
    "response = response.text\n",
    "\n",
    "print(response)\n",
    "\n",
    "# Encontre posição do início e fim do campo \"id\"\n",
    "start_pos = response.find('\"id\"')  # Encontra onde começa \"id\"\n",
    "end_pos = response.find(',', start_pos)  # Encontra onde termina \"id\"\n",
    "\n",
    "# Extraia o valor de \"id\"\n",
    "seller_id = response[start_pos:end_pos].split(\":\")[1]\n",
    "seller_id = seller_id.strip().strip('\"')\n",
    "\n",
    "print(f'O valor de \"seller_id\" é: {seller_id}')"
   ]
  },
  {
   "cell_type": "markdown",
   "metadata": {},
   "source": [
    "## Pegando Todos os Itens do ML\n",
    "\n",
    "Por padrão a API do ML limita a exibição de até 50 itens por página. Usamos o parâmetro 'limit' para ampliar esse valor a 100 itens/página. Desta forma, a lista de páginas diminui mas ainda precisamos percorrer toda ela. Para isso precisaremos do scroll_id que percorre todas as páginas uma de cada vez em sequência."
   ]
  },
  {
   "cell_type": "markdown",
   "metadata": {},
   "source": [
    "### Pegando scroll_id e os primeiros 100 itens\n"
   ]
  },
  {
   "cell_type": "code",
   "execution_count": null,
   "metadata": {},
   "outputs": [],
   "source": [
    "resultados = []\n",
    "url = f\"https://api.mercadolibre.com/users/{seller_id}/items/search?search_type=scan\"\n",
    "\n",
    "payload = {}\n",
    "\n",
    "params = {\n",
    "    'limit': 100,  # Defina o número de resultados por página (máximo 50)\n",
    "    'offset': 0,  # Defina o deslocamento (página) que você deseja recuperar\n",
    "}\n",
    "\n",
    "headers = {\n",
    "  'Authorization': f'Bearer {access_token}'\n",
    "}\n",
    "\n",
    "response = requests.request(\"GET\", url, headers=headers, data=payload, params=params)\n",
    "response = response.text\n",
    "\n",
    "# print(response)\n",
    "\n",
    "json_data = response\n",
    "data = json.loads(json_data)\n",
    "resultados.extend(data.get(\"results\", []))\n",
    "\n",
    "# Acesse o valor da chave \"scroll_id\"\n",
    "scroll_id = data.get(\"scroll_id\")\n",
    "\n",
    "print(f'O valor de \"scroll_id\" é: {scroll_id}')\n"
   ]
  },
  {
   "cell_type": "code",
   "execution_count": null,
   "metadata": {},
   "outputs": [],
   "source": [
    "# Quantidade de itens encontrados\n",
    "len(resultados)"
   ]
  },
  {
   "cell_type": "markdown",
   "metadata": {},
   "source": [
    "### Pegando o restante de itens em cada uma das páginas\n",
    "\n",
    "Por padrão a API do ML limita a exibição de até 50 itens por página."
   ]
  },
  {
   "cell_type": "code",
   "execution_count": null,
   "metadata": {},
   "outputs": [],
   "source": [
    "url_base = f\"https://api.mercadolibre.com/users/{seller_id}/items/search?search_type=scan&scroll_id={scroll_id}\"\n",
    "\n",
    "# Defina os cabeçalhos\n",
    "headers = {\n",
    "    'Authorization': f'Bearer {access_token}'\n",
    "}\n",
    "\n",
    "# Quantidade de repetições\n",
    "repeticoes = 365\n",
    "\n",
    "for i in range(repeticoes):\n",
    "    # Faça a solicitação GET\n",
    "    response = requests.get(url_base, headers=headers)\n",
    "\n",
    "    # Verifique se a solicitação foi bem-sucedida\n",
    "    if response.status_code == 200:\n",
    "        # Carregue o JSON da resposta\n",
    "        data = response.json()\n",
    "\n",
    "        # Acesse os itens da chave \"results\" e adicione-os à lista \"resultados\"\n",
    "        resultados.extend(data.get(\"results\", []))\n",
    "        # print(resultados)\n",
    "    else:\n",
    "        print(f'Erro na solicitação da repetição {i + 1}: {response.status_code} - {response.text}')\n",
    "        if response.status_code == 404:\n",
    "            print('Acabou a lista')\n",
    "            break"
   ]
  },
  {
   "cell_type": "code",
   "execution_count": null,
   "metadata": {},
   "outputs": [],
   "source": [
    "# Registra o tempo depois da execução\n",
    "end_prog = time.time()\n",
    "\n",
    "# Calcula o tempo decorrido\n",
    "elapsed_time = end_prog - start_prog\n",
    "\n",
    "print(f\"Tempo Total do processo: {elapsed_time / 60} minutos\")"
   ]
  }
 ],
 "metadata": {
  "kernelspec": {
   "display_name": "venv",
   "language": "python",
   "name": "python3"
  },
  "language_info": {
   "codemirror_mode": {
    "name": "ipython",
    "version": 3
   },
   "file_extension": ".py",
   "mimetype": "text/x-python",
   "name": "python",
   "nbconvert_exporter": "python",
   "pygments_lexer": "ipython3",
   "version": "3.12.0"
  }
 },
 "nbformat": 4,
 "nbformat_minor": 2
}
