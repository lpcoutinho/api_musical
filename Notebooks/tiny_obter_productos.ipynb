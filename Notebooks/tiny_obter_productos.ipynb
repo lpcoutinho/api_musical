{
 "cells": [
  {
   "cell_type": "code",
   "execution_count": null,
   "metadata": {},
   "outputs": [],
   "source": [
    "# Importando bibliotecas\n",
    "import requests\n",
    "import json\n",
    "import pandas as pd\n",
    "import time\n",
    "import os\n",
    "from datetime import datetime\n",
    "\n",
    "from dotenv import load_dotenv\n",
    "\n",
    "load_dotenv()\n",
    "\n",
    "TINY_TOKEN = os.getenv(\"TINY_TOKEN\")\n",
    "HOST = os.getenv(\"HOST\")\n",
    "POSTGRES_DB = os.getenv(\"POSTGRES_DB\")\n",
    "POSTGRES_USER = os.getenv(\"POSTGRES_USER\")\n",
    "POSTGRES_PASSWORD = os.getenv(\"POSTGRES_PASSWORD\")\n",
    "\n",
    "# Informações de conexão com o banco de dados PostgreSQL\n",
    "db_config = {\n",
    "    \"host\": 'localhost',\n",
    "    \"database\": POSTGRES_DB,\n",
    "    \"user\": POSTGRES_USER,\n",
    "    \"password\": POSTGRES_PASSWORD,\n",
    "}\n",
    "\n",
    "\n",
    "pd.set_option('display.max_columns', None)\n",
    "\n",
    "# Registra o tempo antes da execução\n",
    "start_prog = time.time()\n",
    "\n",
    "# Configurações da API Tiny\n",
    "\n",
    "token = TINY_TOKEN\n",
    "formato = 'JSON'"
   ]
  },
  {
   "cell_type": "code",
   "execution_count": null,
   "metadata": {},
   "outputs": [],
   "source": [
    "# Carregando IDs de produtos\n",
    "\n",
    "excel_path = r\"..\\Data\\Base\\Envios Full.xlsx\"  # Caminho para o arquivo Excel\n",
    "\n",
    "sheet_name = \"Relação Full x Tiny\"  # Nome da planilha\n",
    "\n",
    "col1 = \"ID Tiny\"  # Nome da coluna a carregar\n",
    "col2 = \"Título do anúncio\"\n",
    "\n",
    "# Use o Pandas para ler a coluna específica\n",
    "df_tiny_id_original = pd.read_excel(excel_path, sheet_name=sheet_name, usecols=[col1, col2])\n",
    "\n",
    "# Salve o DataFrame original\n",
    "df_tiny_id = df_tiny_id_original.copy()\n",
    "\n",
    "# Agora, df conterá apenas a coluna especificada\n",
    "df_tiny_id.shape"
   ]
  },
  {
   "cell_type": "code",
   "execution_count": null,
   "metadata": {},
   "outputs": [],
   "source": [
    "# # Converte para números inteiros e substitui os não numéricos por NaN\n",
    "# df_tiny_id['ID Tiny'] = pd.to_numeric(df_tiny_id['ID Tiny'], errors='coerce')\n",
    "\n",
    "# df_tiny_id.shape"
   ]
  },
  {
   "cell_type": "code",
   "execution_count": null,
   "metadata": {},
   "outputs": [],
   "source": [
    "# Remova as linhas com valores NaN - Linha 378\n",
    "df_tiny_id_no_nan = df_tiny_id.dropna(subset=['ID Tiny'])\n",
    "\n",
    "df_tiny_id_no_nan.shape"
   ]
  },
  {
   "cell_type": "code",
   "execution_count": null,
   "metadata": {},
   "outputs": [],
   "source": [
    "# # Salve o DataFrame original\n",
    "# df_tiny_id_original = df_tiny_id.copy()\n",
    "\n",
    "# # Remova as linhas com valores NaN\n",
    "# df_tiny_id_no_nan = df_tiny_id.dropna(subset=['ID Tiny'])\n",
    "\n",
    "# # Compare os DataFrames para encontrar a linha removida\n",
    "# linha_removida = df_tiny_id_original[~df_tiny_id_original.index.isin(df_tiny_id_no_nan.index)]\n",
    "\n",
    "# # Exiba a linha removida\n",
    "# print(linha_removida)\n"
   ]
  },
  {
   "cell_type": "code",
   "execution_count": null,
   "metadata": {},
   "outputs": [],
   "source": [
    "# Verifica se há duplicatas\n",
    "duplicatas = df_tiny_id_no_nan.duplicated()\n",
    "numero_de_duplicatas = duplicatas.sum()\n",
    "\n",
    "print(f'Número de duplicatas: {numero_de_duplicatas}')\n",
    "\n",
    "# # Encontre as duplicatas no DataFrame\n",
    "# duplicatas = df_tiny_id_no_nan[df_tiny_id_no_nan.duplicated(keep=False)]\n",
    "\n",
    "# # Exiba as próprias duplicatas\n",
    "# duplicatas"
   ]
  },
  {
   "cell_type": "code",
   "execution_count": null,
   "metadata": {},
   "outputs": [],
   "source": [
    "# Remove as duplicatas e atualiza o DataFrame\n",
    "df_tiny_id_no_dup = df_tiny_id_no_nan.drop_duplicates()\n",
    "\n",
    "df_tiny_id_no_dup.shape"
   ]
  },
  {
   "cell_type": "code",
   "execution_count": null,
   "metadata": {},
   "outputs": [],
   "source": [
    "# Requisitando produtos à API Tiny\n",
    "\n",
    "start_time = time.time() # Registra o tempo antes da execução\n",
    "\n",
    "url = 'https://api.tiny.com.br/api2/produto.obter.php'\n",
    "\n",
    "# df_tiny_id_no_dup = df_tiny_id_no_dup.head(3)\n",
    "#df_tiny_id = pd.read_csv('tiny_id_no_dup.csv')\n",
    "df_tiny_id = df_tiny_id_no_dup\n",
    "\n",
    "responses = []  # Lista para armazenar os resultados\n",
    "num = 0\n",
    "\n",
    "def enviarREST(url, data, optional_headers=None):\n",
    "    headers = optional_headers if optional_headers is not None else {}\n",
    "\n",
    "    response = requests.post(url, data=data, headers=headers)\n",
    "\n",
    "    if response.status_code != 200:\n",
    "        raise Exception(f\"Problema com {url}, Status Code: {response.status_code}\")\n",
    "\n",
    "    return response.text\n",
    "\n",
    "\n",
    "for id in df_tiny_id['ID Tiny']:\n",
    "    print(f'Buscando dados de {id}')\n",
    "    num +=1\n",
    "    print(f'Loop: {num}')\n",
    "    data = {'token': token, 'id': id, 'formato': formato}\n",
    "    response = enviarREST(url, data)\n",
    "    responses.append(response)\n",
    "\n",
    "    # Verifica se é múltiplo de 50 para aguardar 1min a cada 50 requisições\n",
    "    if num % 50 == 0:\n",
    "        print(\"Esperando 1 minuto...\")\n",
    "        time.sleep(60)  # Pausa por 1 minuto\n",
    "\n",
    "# Registra o tempo depois da execução\n",
    "end_time = time.time()\n",
    "\n",
    "# Calcula o tempo decorrido\n",
    "elapsed_time = end_time - start_time"
   ]
  },
  {
   "cell_type": "code",
   "execution_count": null,
   "metadata": {},
   "outputs": [],
   "source": [
    "print(f\"Tempo :decorrido {elapsed_time / 60} minutos\")\n",
    "print(f\"Total de resultados encontrados: {len(responses)}\")"
   ]
  },
  {
   "cell_type": "code",
   "execution_count": null,
   "metadata": {},
   "outputs": [],
   "source": [
    "responses"
   ]
  },
  {
   "cell_type": "code",
   "execution_count": null,
   "metadata": {},
   "outputs": [],
   "source": [
    "# Gravando respostas em txt\n",
    "datetime_now = datetime.now().strftime(\"%Y-%m-%d_%H-%M-%S\")\n",
    "\n",
    "file_path = f\"../Data/Output/tiny_products_json_{datetime_now}.txt\"\n",
    "\n",
    "with open(file_path, 'w') as file:\n",
    "    for line in responses:\n",
    "        file.write(line + '\\n')  # Adicione uma quebra de linha\n",
    "\n",
    "print(f'Os dados foram gravados no arquivo: {file_path}')"
   ]
  },
  {
   "cell_type": "code",
   "execution_count": null,
   "metadata": {},
   "outputs": [],
   "source": [
    "# Verificandos e há erros de processamento\n",
    "text_search1 = '\"status_processamento\":\"1\"'\n",
    "text_search2 = '\"status_processamento\":\"2\"'\n",
    "\n",
    "lines_search1 = []\n",
    "lines_search2 = []\n",
    "\n",
    "with open(file_path, 'r') as file:\n",
    "    for n_line, line in enumerate(file, start=1):\n",
    "        if text_search1 in line:\n",
    "            lines_search1.append(n_line)\n",
    "        if text_search2 in line:\n",
    "            lines_search2.append(n_line)\n",
    "\n",
    "if lines_search1 and lines_search2:\n",
    "    print(f'\"status_processamento\":\"1\" foi encontrado nas linhas: {lines_search1}')\n",
    "    print(f'\"status_processamento\":\"2\" foi encontrado nas linhas: {lines_search2}')\n",
    "elif lines_search1:\n",
    "    print(f'\"status_processamento\":\"1\" foi encontrado nas linhas: {lines_search1}')\n",
    "    print('\"status_processamento\":\"2\" não foi encontrado em nenhuma linha.')\n",
    "elif lines_search2:\n",
    "    print(f'\"status_processamento\":\"2\" foi encontrado nas linhas: {lines_search2}')\n",
    "    print('\"status_processamento\":\"1\" não foi encontrado em nenhuma linha.')\n",
    "else:\n",
    "    print('Não foi verificado erro de processamento\"')\n"
   ]
  },
  {
   "cell_type": "markdown",
   "metadata": {},
   "source": [
    "# Df Base"
   ]
  },
  {
   "cell_type": "code",
   "execution_count": 42,
   "metadata": {},
   "outputs": [
    {
     "data": {
      "text/html": [
       "<div>\n",
       "<style scoped>\n",
       "    .dataframe tbody tr th:only-of-type {\n",
       "        vertical-align: middle;\n",
       "    }\n",
       "\n",
       "    .dataframe tbody tr th {\n",
       "        vertical-align: top;\n",
       "    }\n",
       "\n",
       "    .dataframe thead th {\n",
       "        text-align: right;\n",
       "    }\n",
       "</style>\n",
       "<table border=\"1\" class=\"dataframe\">\n",
       "  <thead>\n",
       "    <tr style=\"text-align: right;\">\n",
       "      <th></th>\n",
       "      <th>id</th>\n",
       "      <th>nome</th>\n",
       "      <th>codigo</th>\n",
       "      <th>unidade</th>\n",
       "      <th>preco</th>\n",
       "      <th>preco_promocional</th>\n",
       "      <th>ncm</th>\n",
       "      <th>origem</th>\n",
       "      <th>gtin</th>\n",
       "      <th>gtin_embalagem</th>\n",
       "      <th>localizacao</th>\n",
       "      <th>peso_liquido</th>\n",
       "      <th>peso_bruto</th>\n",
       "      <th>estoque_minimo</th>\n",
       "      <th>estoque_maximo</th>\n",
       "      <th>id_fornecedor</th>\n",
       "      <th>nome_fornecedor</th>\n",
       "      <th>codigo_fornecedor</th>\n",
       "      <th>codigo_pelo_fornecedor</th>\n",
       "      <th>unidade_por_caixa</th>\n",
       "      <th>preco_custo</th>\n",
       "      <th>preco_custo_medio</th>\n",
       "      <th>situacao</th>\n",
       "      <th>tipo</th>\n",
       "      <th>classe_ipi</th>\n",
       "      <th>valor_ipi_fixo</th>\n",
       "      <th>cod_lista_servicos</th>\n",
       "      <th>descricao_complementar</th>\n",
       "      <th>garantia</th>\n",
       "      <th>cest</th>\n",
       "      <th>obs</th>\n",
       "      <th>tipoVariacao</th>\n",
       "      <th>variacoes</th>\n",
       "      <th>idProdutoPai</th>\n",
       "      <th>sob_encomenda</th>\n",
       "      <th>dias_preparacao</th>\n",
       "      <th>marca</th>\n",
       "      <th>tipoEmbalagem</th>\n",
       "      <th>alturaEmbalagem</th>\n",
       "      <th>comprimentoEmbalagem</th>\n",
       "      <th>larguraEmbalagem</th>\n",
       "      <th>diametroEmbalagem</th>\n",
       "      <th>qtd_volumes</th>\n",
       "      <th>categoria</th>\n",
       "      <th>anexos</th>\n",
       "      <th>imagens_externas</th>\n",
       "      <th>classe_produto</th>\n",
       "      <th>seo_title</th>\n",
       "      <th>seo_keywords</th>\n",
       "      <th>link_video</th>\n",
       "      <th>seo_description</th>\n",
       "      <th>slug</th>\n",
       "    </tr>\n",
       "  </thead>\n",
       "  <tbody>\n",
       "    <tr>\n",
       "      <th>0</th>\n",
       "      <td>509517168</td>\n",
       "      <td>Cabo P10 X P10 Santo Angelo Ninja 10ft - 3.05m</td>\n",
       "      <td>7899028808537</td>\n",
       "      <td>Un</td>\n",
       "      <td>46.9</td>\n",
       "      <td>0</td>\n",
       "      <td>8544.42.00</td>\n",
       "      <td>2</td>\n",
       "      <td>7899028808537</td>\n",
       "      <td></td>\n",
       "      <td>Torre Liverpool 2/ B4-3 25.06.2021</td>\n",
       "      <td>0</td>\n",
       "      <td>0.5</td>\n",
       "      <td>0</td>\n",
       "      <td>0</td>\n",
       "      <td>660366502</td>\n",
       "      <td>SMA CABOS E SISTEMAS LTDA</td>\n",
       "      <td></td>\n",
       "      <td>4.5.20.232.121</td>\n",
       "      <td></td>\n",
       "      <td>25.45</td>\n",
       "      <td>25.45</td>\n",
       "      <td>A</td>\n",
       "      <td>P</td>\n",
       "      <td></td>\n",
       "      <td>0.0000</td>\n",
       "      <td></td>\n",
       "      <td></td>\n",
       "      <td>6</td>\n",
       "      <td></td>\n",
       "      <td></td>\n",
       "      <td>N</td>\n",
       "      <td></td>\n",
       "      <td>0</td>\n",
       "      <td>N</td>\n",
       "      <td>0</td>\n",
       "      <td></td>\n",
       "      <td>2</td>\n",
       "      <td>3.0</td>\n",
       "      <td>23.0</td>\n",
       "      <td>18.0</td>\n",
       "      <td>0.0</td>\n",
       "      <td>0</td>\n",
       "      <td>Instrumentos Musicais &gt;&gt; Instrumentos de Corda...</td>\n",
       "      <td>[]</td>\n",
       "      <td>[]</td>\n",
       "      <td>S</td>\n",
       "      <td></td>\n",
       "      <td></td>\n",
       "      <td></td>\n",
       "      <td></td>\n",
       "      <td></td>\n",
       "    </tr>\n",
       "  </tbody>\n",
       "</table>\n",
       "</div>"
      ],
      "text/plain": [
       "          id                                            nome         codigo  \\\n",
       "0  509517168  Cabo P10 X P10 Santo Angelo Ninja 10ft - 3.05m  7899028808537   \n",
       "\n",
       "  unidade  preco  preco_promocional         ncm origem           gtin  \\\n",
       "0      Un   46.9                  0  8544.42.00      2  7899028808537   \n",
       "\n",
       "  gtin_embalagem                         localizacao  peso_liquido  \\\n",
       "0                 Torre Liverpool 2/ B4-3 25.06.2021             0   \n",
       "\n",
       "   peso_bruto  estoque_minimo  estoque_maximo id_fornecedor  \\\n",
       "0         0.5               0               0     660366502   \n",
       "\n",
       "             nome_fornecedor codigo_fornecedor codigo_pelo_fornecedor  \\\n",
       "0  SMA CABOS E SISTEMAS LTDA                           4.5.20.232.121   \n",
       "\n",
       "  unidade_por_caixa  preco_custo  preco_custo_medio situacao tipo classe_ipi  \\\n",
       "0                          25.45              25.45        A    P              \n",
       "\n",
       "  valor_ipi_fixo cod_lista_servicos descricao_complementar garantia cest obs  \\\n",
       "0         0.0000                                                  6            \n",
       "\n",
       "  tipoVariacao variacoes idProdutoPai sob_encomenda dias_preparacao marca  \\\n",
       "0            N                      0             N               0         \n",
       "\n",
       "  tipoEmbalagem alturaEmbalagem comprimentoEmbalagem larguraEmbalagem  \\\n",
       "0             2             3.0                 23.0             18.0   \n",
       "\n",
       "  diametroEmbalagem qtd_volumes  \\\n",
       "0               0.0           0   \n",
       "\n",
       "                                           categoria anexos imagens_externas  \\\n",
       "0  Instrumentos Musicais >> Instrumentos de Corda...     []               []   \n",
       "\n",
       "  classe_produto seo_title seo_keywords link_video seo_description slug  \n",
       "0              S                                                         "
      ]
     },
     "execution_count": 42,
     "metadata": {},
     "output_type": "execute_result"
    }
   ],
   "source": [
    "json_list = responses\n",
    "\n",
    "tiny_prod_df = pd.DataFrame() # Inicialize o DataFrame vazio\n",
    "\n",
    "for json_str in json_list:\n",
    "    json_data = json.loads(json_str) # Transforme a string JSON em um objeto Python\n",
    "\n",
    "    # Extrair a parte \"produto\" do JSON\n",
    "    produto = json_data[\"retorno\"][\"produto\"]\n",
    "    # print(produto)\n",
    "    \n",
    "    # Adicione os dados extraídos ao DataFrame\n",
    "    tiny_prod_df = pd.concat([tiny_prod_df, pd.DataFrame([produto])], ignore_index=True)\n",
    "\n",
    "# Exibir o DataFrame\n",
    "tiny_prod_df.head(1)\n"
   ]
  },
  {
   "cell_type": "code",
   "execution_count": 51,
   "metadata": {},
   "outputs": [
    {
     "name": "stdout",
     "output_type": "stream",
     "text": [
      "(717, 52)\n",
      "(717, 50)\n"
     ]
    }
   ],
   "source": [
    "print(tiny_prod_df.shape)\n",
    "\n",
    "remove_cols = ['anexos', 'imagens_externas']\n",
    "\n",
    "tiny_prod_df = tiny_prod_df.drop(columns=remove_cols)\n",
    "\n",
    "print(tiny_prod_df.shape)"
   ]
  },
  {
   "cell_type": "code",
   "execution_count": 52,
   "metadata": {},
   "outputs": [
    {
     "name": "stdout",
     "output_type": "stream",
     "text": [
      "Número de duplicatas: 235\n"
     ]
    },
    {
     "data": {
      "text/plain": [
       "(44, 50)"
      ]
     },
     "execution_count": 52,
     "metadata": {},
     "output_type": "execute_result"
    }
   ],
   "source": [
    "# Verifica se há duplicatas\n",
    "duplicatas = tiny_prod_df.duplicated()\n",
    "total_duplicatas = duplicatas.sum() \n",
    "\n",
    "print(f'Número de duplicatas: {total_duplicatas}')\n",
    "\n",
    "# Encontra duplicatas no DataFrame\n",
    "duplicatas = tiny_prod_df[tiny_prod_df.duplicated(keep=False)]\n",
    "\n",
    "# Exiba duplicatas\n",
    "duplicatas['id']\n",
    "\n",
    "l_duplicatas = duplicatas[duplicatas['id'] == '565663877']\n",
    "l_duplicatas.shape"
   ]
  },
  {
   "cell_type": "code",
   "execution_count": 53,
   "metadata": {},
   "outputs": [
    {
     "name": "stderr",
     "output_type": "stream",
     "text": [
      "C:\\Users\\couti\\AppData\\Local\\Temp\\ipykernel_17476\\1738426329.py:2: FutureWarning: DataFrame.applymap has been deprecated. Use DataFrame.map instead.\n",
      "  is_list_df = tiny_prod_df.applymap(lambda x: isinstance(x, list))\n"
     ]
    },
    {
     "data": {
      "text/plain": [
       "Series([], dtype: bool)"
      ]
     },
     "execution_count": 53,
     "metadata": {},
     "output_type": "execute_result"
    }
   ],
   "source": [
    "# Cria DataFrame booleano para verificar se cada célula contém uma lista\n",
    "is_list_df = tiny_prod_df.applymap(lambda x: isinstance(x, list))\n",
    "\n",
    "# Verifica se há alguma coluna que contenha pelo menos uma lista\n",
    "colunas_com_listas = is_list_df.any()\n",
    "\n",
    "# Exibe colunas que contêm listas\n",
    "colunas_com_listas = colunas_com_listas[colunas_com_listas]\n",
    "colunas_com_listas"
   ]
  },
  {
   "cell_type": "code",
   "execution_count": 64,
   "metadata": {},
   "outputs": [
    {
     "name": "stdout",
     "output_type": "stream",
     "text": [
      "(717, 50)\n",
      "(482, 50)\n"
     ]
    }
   ],
   "source": [
    "# Remove as duplicatas e atualiza o DataFrame\n",
    "tiny_prod_no_dup = tiny_prod_df.drop_duplicates()\n",
    "\n",
    "print(tiny_prod_df.shape)\n",
    "print(tiny_prod_no_dup.shape)"
   ]
  },
  {
   "cell_type": "markdown",
   "metadata": {},
   "source": [
    "# Salvando na base de dados"
   ]
  },
  {
   "cell_type": "code",
   "execution_count": 68,
   "metadata": {},
   "outputs": [
    {
     "name": "stdout",
     "output_type": "stream",
     "text": [
      "Loop nº: 1\n"
     ]
    },
    {
     "ename": "UniqueViolation",
     "evalue": "duplicate key value violates unique constraint \"tiny_products_pkey\"\nDETAIL:  Key (tiny_id)=(509517168) already exists.\n",
     "output_type": "error",
     "traceback": [
      "\u001b[1;31m---------------------------------------------------------------------------\u001b[0m",
      "\u001b[1;31mUniqueViolation\u001b[0m                           Traceback (most recent call last)",
      "\u001b[1;32mc:\\Users\\couti\\projetos\\api_musical\\Notebooks\\tiny_proucst.ipynb Cell 20\u001b[0m line \u001b[0;36m4\n\u001b[0;32m     <a href='vscode-notebook-cell:/c%3A/Users/couti/projetos/api_musical/Notebooks/tiny_proucst.ipynb#X24sZmlsZQ%3D%3D?line=46'>47</a>\u001b[0m     \u001b[39m# print(values)\u001b[39;00m\n\u001b[0;32m     <a href='vscode-notebook-cell:/c%3A/Users/couti/projetos/api_musical/Notebooks/tiny_proucst.ipynb#X24sZmlsZQ%3D%3D?line=47'>48</a>\u001b[0m     n \u001b[39m+\u001b[39m\u001b[39m=\u001b[39m \u001b[39m1\u001b[39m\n\u001b[1;32m---> <a href='vscode-notebook-cell:/c%3A/Users/couti/projetos/api_musical/Notebooks/tiny_proucst.ipynb#X24sZmlsZQ%3D%3D?line=48'>49</a>\u001b[0m     cursor\u001b[39m.\u001b[39;49mexecute(query, values)\n\u001b[0;32m     <a href='vscode-notebook-cell:/c%3A/Users/couti/projetos/api_musical/Notebooks/tiny_proucst.ipynb#X24sZmlsZQ%3D%3D?line=50'>51</a>\u001b[0m \u001b[39m# Faça o commit para salvar as alterações no banco de dados\u001b[39;00m\n\u001b[0;32m     <a href='vscode-notebook-cell:/c%3A/Users/couti/projetos/api_musical/Notebooks/tiny_proucst.ipynb#X24sZmlsZQ%3D%3D?line=51'>52</a>\u001b[0m conn\u001b[39m.\u001b[39mcommit()\n",
      "\u001b[1;31mUniqueViolation\u001b[0m: duplicate key value violates unique constraint \"tiny_products_pkey\"\nDETAIL:  Key (tiny_id)=(509517168) already exists.\n"
     ]
    }
   ],
   "source": [
    "import psycopg2\n",
    "import pandas as pd\n",
    "\n",
    "conn = psycopg2.connect(**db_config)\n",
    "\n",
    "cursor = conn.cursor()\n",
    "n = 1\n",
    "\n",
    "# Itere sobre as linhas do DataFrame e insira os dados na tabela \"tiny_products\"\n",
    "for index, row in tiny_prod_no_dup.iterrows():\n",
    "    print(f'Loop nº: {n}')\n",
    "    query = \"\"\"\n",
    "    INSERT INTO tiny_products (tiny_id,nome,sku_tiny,unidade,preco,ncm,origem,gtin,peso_bruto,estoque_minimo,estoque_maximo,id_fornecedor,nome_fornecedor,\n",
    "    codigo_pelo_fornecedor,preco_custo,preco_custo_medio,situacao,tipo,cest,marca,tipo_embalagem,altura_embalagem,comprimento_embalagem,largura_embalagem,\n",
    "    diametro_embalagem,qtd_volumes,categoria)\n",
    "    VALUES (%s,%s,%s,%s,%s,%s,%s,%s,%s,%s,%s,%s,%s,%s,%s,%s,%s,%s,%s,%s,%s,%s,%s,%s,%s,%s,%s);\n",
    "    \"\"\"\n",
    "    values = (\n",
    "        row['id'],\n",
    "        row['nome'],\n",
    "        row['codigo'],\n",
    "        row['unidade'],\n",
    "        row['preco'],\n",
    "        row['ncm'],\n",
    "        row['origem'],\n",
    "        row['gtin'],\n",
    "        row['peso_bruto'],\n",
    "        row['estoque_minimo'],\n",
    "        row['estoque_maximo'],\n",
    "        row['id_fornecedor'],\n",
    "        row['nome_fornecedor'],\n",
    "        row['codigo_pelo_fornecedor'],\n",
    "        row['preco_custo'],\n",
    "        row['preco_custo_medio'],\n",
    "        row['situacao'],\n",
    "        row['tipo'],\n",
    "        row['cest'],\n",
    "        row['marca'],\n",
    "        row['tipoEmbalagem'],\n",
    "        row['alturaEmbalagem'],\n",
    "        row['comprimentoEmbalagem'],\n",
    "        row['larguraEmbalagem'],\n",
    "        row['diametroEmbalagem'],\n",
    "        row['qtd_volumes'],\n",
    "        row['categoria']\n",
    "    )\n",
    "    # print(values)\n",
    "    n += 1\n",
    "    cursor.execute(query, values)\n",
    "\n",
    "# Faça o commit para salvar as alterações no banco de dados\n",
    "conn.commit()\n",
    "\n",
    "# Feche o cursor e a conexão\n",
    "cursor.close()\n",
    "conn.close()\n",
    "print('Produtos adicionados ao Banco de dados.')\n"
   ]
  },
  {
   "cell_type": "code",
   "execution_count": 69,
   "metadata": {},
   "outputs": [
    {
     "data": {
      "text/plain": [
       "115"
      ]
     },
     "execution_count": 69,
     "metadata": {},
     "output_type": "execute_result"
    }
   ],
   "source": [
    "t = 'Instrumentos Musicais >> Instrumentos de Corda >> Acessórios >> Cordas e Encordoamentos >> Para Violões e Guitarras'\n",
    "len(t)"
   ]
  },
  {
   "cell_type": "code",
   "execution_count": null,
   "metadata": {},
   "outputs": [],
   "source": []
  }
 ],
 "metadata": {
  "kernelspec": {
   "display_name": "venv",
   "language": "python",
   "name": "python3"
  },
  "language_info": {
   "codemirror_mode": {
    "name": "ipython",
    "version": 3
   },
   "file_extension": ".py",
   "mimetype": "text/x-python",
   "name": "python",
   "nbconvert_exporter": "python",
   "pygments_lexer": "ipython3",
   "version": "3.12.0"
  }
 },
 "nbformat": 4,
 "nbformat_minor": 2
}
