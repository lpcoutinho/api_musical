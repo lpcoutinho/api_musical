{
 "cells": [
  {
   "cell_type": "markdown",
   "metadata": {},
   "source": [
    "## Populando a tabela de códigos"
   ]
  },
  {
   "cell_type": "code",
   "execution_count": 2,
   "metadata": {},
   "outputs": [],
   "source": [
    "import os\n",
    "import time\n",
    "from pandas import json_normalize\n",
    "import psycopg2\n",
    "from psycopg2 import sql\n",
    "\n",
    "import pandas as pd\n",
    "from dotenv import load_dotenv\n",
    "\n",
    "load_dotenv()\n",
    "\n",
    "access_token = os.getenv(\"ACCESS_TOKEN\")\n",
    "HOST = os.getenv(\"HOST\")\n",
    "POSTGRES_DB = os.getenv(\"POSTGRES_DB\")\n",
    "POSTGRES_USER = os.getenv(\"POSTGRES_USER\")\n",
    "POSTGRES_PASSWORD = os.getenv(\"POSTGRES_PASSWORD\")\n",
    "\n",
    "\n",
    "# configuarações de conexão com o banco de dados \n",
    "db_config = {\n",
    "    \"host\": \"localhost\",\n",
    "    \"database\": POSTGRES_DB,\n",
    "    \"user\": POSTGRES_USER,\n",
    "    \"password\": POSTGRES_PASSWORD,\n",
    "}\n"
   ]
  },
  {
   "cell_type": "code",
   "execution_count": 3,
   "metadata": {},
   "outputs": [
    {
     "data": {
      "text/plain": [
       "(885, 5)"
      ]
     },
     "execution_count": 3,
     "metadata": {},
     "output_type": "execute_result"
    }
   ],
   "source": [
    "# Carregando dados do arquivo excel\n",
    "\n",
    "caminho_arquivo_excel = r'../Data/Base/Envios Full.xlsx'\n",
    "\n",
    "# planilha\n",
    "nome_planilha = 'Relação Full x Tiny'\n",
    "\n",
    "# features\n",
    "col1 = 'Código ML' \n",
    "col2 = 'ID do anúncio'\n",
    "col3 = 'ID Tiny'\n",
    "col4 = 'SKU'\n",
    "col5 = 'SKU Tiny'\n",
    "\n",
    "df_codes = pd.read_excel(caminho_arquivo_excel, sheet_name=nome_planilha, usecols=[col1,col2,col3,col4,col5])\n",
    "\n",
    "col = {'Código ML' : 'ml_inventory_id', 'ID do anúncio': 'ml_code', 'ID Tiny': 'tiny_id', 'SKU': 'ml_sku', 'SKU Tiny': 'tiny_sku'}\n",
    "\n",
    "df_codes.rename(columns=col, inplace= True)\n",
    "\n",
    "df_codes.shape"
   ]
  },
  {
   "cell_type": "code",
   "execution_count": 4,
   "metadata": {},
   "outputs": [
    {
     "data": {
      "text/html": [
       "<div>\n",
       "<style scoped>\n",
       "    .dataframe tbody tr th:only-of-type {\n",
       "        vertical-align: middle;\n",
       "    }\n",
       "\n",
       "    .dataframe tbody tr th {\n",
       "        vertical-align: top;\n",
       "    }\n",
       "\n",
       "    .dataframe thead th {\n",
       "        text-align: right;\n",
       "    }\n",
       "</style>\n",
       "<table border=\"1\" class=\"dataframe\">\n",
       "  <thead>\n",
       "    <tr style=\"text-align: right;\">\n",
       "      <th></th>\n",
       "      <th>ml_sku</th>\n",
       "      <th>ml_inventory_id</th>\n",
       "      <th>ml_code</th>\n",
       "      <th>tiny_sku</th>\n",
       "      <th>tiny_id</th>\n",
       "    </tr>\n",
       "  </thead>\n",
       "  <tbody>\n",
       "    <tr>\n",
       "      <th>0</th>\n",
       "      <td>FULLP10NINJA10FTC</td>\n",
       "      <td>JFGN34621</td>\n",
       "      <td>924922735</td>\n",
       "      <td>7899028808537</td>\n",
       "      <td>509517168</td>\n",
       "    </tr>\n",
       "    <tr>\n",
       "      <th>1</th>\n",
       "      <td>P10LNINJA10FT</td>\n",
       "      <td>ERIM51807</td>\n",
       "      <td>949788598</td>\n",
       "      <td>7899028824407</td>\n",
       "      <td>598796832</td>\n",
       "    </tr>\n",
       "    <tr>\n",
       "      <th>2</th>\n",
       "      <td>FULLLWNINJA10FT</td>\n",
       "      <td>HVCS52763</td>\n",
       "      <td>950214971</td>\n",
       "      <td>7899028808773</td>\n",
       "      <td>565287467</td>\n",
       "    </tr>\n",
       "  </tbody>\n",
       "</table>\n",
       "</div>"
      ],
      "text/plain": [
       "              ml_sku ml_inventory_id    ml_code       tiny_sku    tiny_id\n",
       "0  FULLP10NINJA10FTC       JFGN34621  924922735  7899028808537  509517168\n",
       "1      P10LNINJA10FT       ERIM51807  949788598  7899028824407  598796832\n",
       "2    FULLLWNINJA10FT       HVCS52763  950214971  7899028808773  565287467"
      ]
     },
     "execution_count": 4,
     "metadata": {},
     "output_type": "execute_result"
    }
   ],
   "source": [
    "df_codes.head(3)"
   ]
  },
  {
   "cell_type": "markdown",
   "metadata": {},
   "source": [
    "### Adicionando prefixo MLB na coluna 'ml_code'"
   ]
  },
  {
   "cell_type": "code",
   "execution_count": 13,
   "metadata": {},
   "outputs": [
    {
     "name": "stdout",
     "output_type": "stream",
     "text": [
      "<class 'pandas.core.frame.DataFrame'>\n",
      "RangeIndex: 885 entries, 0 to 884\n",
      "Data columns (total 5 columns):\n",
      " #   Column           Non-Null Count  Dtype \n",
      "---  ------           --------------  ----- \n",
      " 0   ml_sku           883 non-null    object\n",
      " 1   ml_inventory_id  767 non-null    object\n",
      " 2   ml_code          885 non-null    int64 \n",
      " 3   tiny_sku         884 non-null    object\n",
      " 4   tiny_id          885 non-null    int64 \n",
      "dtypes: int64(2), object(3)\n",
      "memory usage: 34.7+ KB\n"
     ]
    }
   ],
   "source": [
    "df_codes.info()"
   ]
  },
  {
   "cell_type": "code",
   "execution_count": 14,
   "metadata": {},
   "outputs": [
    {
     "name": "stdout",
     "output_type": "stream",
     "text": [
      "<class 'pandas.core.frame.DataFrame'>\n",
      "RangeIndex: 885 entries, 0 to 884\n",
      "Data columns (total 5 columns):\n",
      " #   Column           Non-Null Count  Dtype \n",
      "---  ------           --------------  ----- \n",
      " 0   ml_sku           883 non-null    object\n",
      " 1   ml_inventory_id  767 non-null    object\n",
      " 2   ml_code          885 non-null    object\n",
      " 3   tiny_sku         884 non-null    object\n",
      " 4   tiny_id          885 non-null    int64 \n",
      "dtypes: int64(1), object(4)\n",
      "memory usage: 34.7+ KB\n"
     ]
    }
   ],
   "source": [
    "df_codes['ml_code'] = df_codes['ml_code'].apply(str)\n",
    "df_codes.info()"
   ]
  },
  {
   "cell_type": "code",
   "execution_count": 15,
   "metadata": {},
   "outputs": [
    {
     "data": {
      "text/html": [
       "<div>\n",
       "<style scoped>\n",
       "    .dataframe tbody tr th:only-of-type {\n",
       "        vertical-align: middle;\n",
       "    }\n",
       "\n",
       "    .dataframe tbody tr th {\n",
       "        vertical-align: top;\n",
       "    }\n",
       "\n",
       "    .dataframe thead th {\n",
       "        text-align: right;\n",
       "    }\n",
       "</style>\n",
       "<table border=\"1\" class=\"dataframe\">\n",
       "  <thead>\n",
       "    <tr style=\"text-align: right;\">\n",
       "      <th></th>\n",
       "      <th>ml_sku</th>\n",
       "      <th>ml_inventory_id</th>\n",
       "      <th>ml_code</th>\n",
       "      <th>tiny_sku</th>\n",
       "      <th>tiny_id</th>\n",
       "    </tr>\n",
       "  </thead>\n",
       "  <tbody>\n",
       "    <tr>\n",
       "      <th>0</th>\n",
       "      <td>FULLP10NINJA10FTC</td>\n",
       "      <td>JFGN34621</td>\n",
       "      <td>MLB924922735</td>\n",
       "      <td>7899028808537</td>\n",
       "      <td>509517168</td>\n",
       "    </tr>\n",
       "  </tbody>\n",
       "</table>\n",
       "</div>"
      ],
      "text/plain": [
       "              ml_sku ml_inventory_id       ml_code       tiny_sku    tiny_id\n",
       "0  FULLP10NINJA10FTC       JFGN34621  MLB924922735  7899028808537  509517168"
      ]
     },
     "execution_count": 15,
     "metadata": {},
     "output_type": "execute_result"
    }
   ],
   "source": [
    "df_codes['ml_code'] = 'MLB' + df_codes['ml_code']\n",
    "df_codes.head(1)"
   ]
  },
  {
   "cell_type": "code",
   "execution_count": 17,
   "metadata": {},
   "outputs": [
    {
     "data": {
      "text/plain": [
       "(885, 5)"
      ]
     },
     "execution_count": 17,
     "metadata": {},
     "output_type": "execute_result"
    }
   ],
   "source": [
    "df_codes.shape"
   ]
  },
  {
   "cell_type": "markdown",
   "metadata": {},
   "source": [
    "### Tratando dados duplicados"
   ]
  },
  {
   "cell_type": "code",
   "execution_count": 21,
   "metadata": {},
   "outputs": [
    {
     "name": "stdout",
     "output_type": "stream",
     "text": [
      "Número de duplicatas: 7\n"
     ]
    },
    {
     "data": {
      "text/html": [
       "<div>\n",
       "<style scoped>\n",
       "    .dataframe tbody tr th:only-of-type {\n",
       "        vertical-align: middle;\n",
       "    }\n",
       "\n",
       "    .dataframe tbody tr th {\n",
       "        vertical-align: top;\n",
       "    }\n",
       "\n",
       "    .dataframe thead th {\n",
       "        text-align: right;\n",
       "    }\n",
       "</style>\n",
       "<table border=\"1\" class=\"dataframe\">\n",
       "  <thead>\n",
       "    <tr style=\"text-align: right;\">\n",
       "      <th></th>\n",
       "      <th>ml_sku</th>\n",
       "      <th>ml_inventory_id</th>\n",
       "      <th>ml_code</th>\n",
       "      <th>tiny_sku</th>\n",
       "      <th>tiny_id</th>\n",
       "    </tr>\n",
       "  </thead>\n",
       "  <tbody>\n",
       "    <tr>\n",
       "      <th>52</th>\n",
       "      <td>CTX3000SIMPLES</td>\n",
       "      <td>KVWJ40778</td>\n",
       "      <td>MLB1233445054</td>\n",
       "      <td>4971850349099</td>\n",
       "      <td>506979980</td>\n",
       "    </tr>\n",
       "    <tr>\n",
       "      <th>53</th>\n",
       "      <td>CTX3000SIMPLES</td>\n",
       "      <td>KVWJ40778</td>\n",
       "      <td>MLB1233445054</td>\n",
       "      <td>4971850349099</td>\n",
       "      <td>506979980</td>\n",
       "    </tr>\n",
       "    <tr>\n",
       "      <th>252</th>\n",
       "      <td>FULLORIONSP18CH</td>\n",
       "      <td>OFYI79568</td>\n",
       "      <td>MLB1509021649</td>\n",
       "      <td>7898608741905</td>\n",
       "      <td>561968045</td>\n",
       "    </tr>\n",
       "    <tr>\n",
       "      <th>253</th>\n",
       "      <td>FULLORIONSP18CH</td>\n",
       "      <td>OFYI79568</td>\n",
       "      <td>MLB1509021649</td>\n",
       "      <td>7898608741905</td>\n",
       "      <td>561968045</td>\n",
       "    </tr>\n",
       "    <tr>\n",
       "      <th>269</th>\n",
       "      <td>FULLORIONSPX15HH</td>\n",
       "      <td>WXUT79339</td>\n",
       "      <td>MLB1512798100</td>\n",
       "      <td>7898608740991</td>\n",
       "      <td>681951269</td>\n",
       "    </tr>\n",
       "    <tr>\n",
       "      <th>270</th>\n",
       "      <td>FULLORIONSPX15HH</td>\n",
       "      <td>WXUT79339</td>\n",
       "      <td>MLB1512798100</td>\n",
       "      <td>7898608740991</td>\n",
       "      <td>681951269</td>\n",
       "    </tr>\n",
       "    <tr>\n",
       "      <th>272</th>\n",
       "      <td>FULLORIONSP16CHH</td>\n",
       "      <td>TDFP80328</td>\n",
       "      <td>MLB1512860650</td>\n",
       "      <td>7898608741899</td>\n",
       "      <td>561967156</td>\n",
       "    </tr>\n",
       "    <tr>\n",
       "      <th>273</th>\n",
       "      <td>FULLORIONSP16CHH</td>\n",
       "      <td>TDFP80328</td>\n",
       "      <td>MLB1512860650</td>\n",
       "      <td>7898608741899</td>\n",
       "      <td>561967156</td>\n",
       "    </tr>\n",
       "    <tr>\n",
       "      <th>285</th>\n",
       "      <td>FULLTAGIMA27KCOMCAPA</td>\n",
       "      <td>DUCB06017</td>\n",
       "      <td>MLB1557290709</td>\n",
       "      <td>7898563978156</td>\n",
       "      <td>512617044</td>\n",
       "    </tr>\n",
       "    <tr>\n",
       "      <th>286</th>\n",
       "      <td>FULLTAGIMA27KCOMCAPA</td>\n",
       "      <td>DUCB06017</td>\n",
       "      <td>MLB1557290709</td>\n",
       "      <td>7898563978156</td>\n",
       "      <td>512617044</td>\n",
       "    </tr>\n",
       "    <tr>\n",
       "      <th>287</th>\n",
       "      <td>FULLTAGIMA27KCOMCAPAC</td>\n",
       "      <td>SSBF06040</td>\n",
       "      <td>MLB1557306058</td>\n",
       "      <td>7898563978156</td>\n",
       "      <td>512617044</td>\n",
       "    </tr>\n",
       "    <tr>\n",
       "      <th>288</th>\n",
       "      <td>FULLTAGIMA27KCOMCAPAC</td>\n",
       "      <td>SSBF06040</td>\n",
       "      <td>MLB1557306058</td>\n",
       "      <td>7898563978156</td>\n",
       "      <td>512617044</td>\n",
       "    </tr>\n",
       "    <tr>\n",
       "      <th>744</th>\n",
       "      <td>FULLC4RH16</td>\n",
       "      <td>IYUQ71257</td>\n",
       "      <td>MLB2192258271</td>\n",
       "      <td>7891088100057</td>\n",
       "      <td>737198870</td>\n",
       "    </tr>\n",
       "    <tr>\n",
       "      <th>745</th>\n",
       "      <td>FULLC4RH16</td>\n",
       "      <td>IYUQ71257</td>\n",
       "      <td>MLB2192258271</td>\n",
       "      <td>7891088100057</td>\n",
       "      <td>737198870</td>\n",
       "    </tr>\n",
       "  </tbody>\n",
       "</table>\n",
       "</div>"
      ],
      "text/plain": [
       "                    ml_sku ml_inventory_id        ml_code       tiny_sku  \\\n",
       "52          CTX3000SIMPLES       KVWJ40778  MLB1233445054  4971850349099   \n",
       "53          CTX3000SIMPLES       KVWJ40778  MLB1233445054  4971850349099   \n",
       "252        FULLORIONSP18CH       OFYI79568  MLB1509021649  7898608741905   \n",
       "253        FULLORIONSP18CH       OFYI79568  MLB1509021649  7898608741905   \n",
       "269       FULLORIONSPX15HH       WXUT79339  MLB1512798100  7898608740991   \n",
       "270       FULLORIONSPX15HH       WXUT79339  MLB1512798100  7898608740991   \n",
       "272       FULLORIONSP16CHH       TDFP80328  MLB1512860650  7898608741899   \n",
       "273       FULLORIONSP16CHH       TDFP80328  MLB1512860650  7898608741899   \n",
       "285   FULLTAGIMA27KCOMCAPA       DUCB06017  MLB1557290709  7898563978156   \n",
       "286   FULLTAGIMA27KCOMCAPA       DUCB06017  MLB1557290709  7898563978156   \n",
       "287  FULLTAGIMA27KCOMCAPAC       SSBF06040  MLB1557306058  7898563978156   \n",
       "288  FULLTAGIMA27KCOMCAPAC       SSBF06040  MLB1557306058  7898563978156   \n",
       "744             FULLC4RH16       IYUQ71257  MLB2192258271  7891088100057   \n",
       "745             FULLC4RH16       IYUQ71257  MLB2192258271  7891088100057   \n",
       "\n",
       "       tiny_id  \n",
       "52   506979980  \n",
       "53   506979980  \n",
       "252  561968045  \n",
       "253  561968045  \n",
       "269  681951269  \n",
       "270  681951269  \n",
       "272  561967156  \n",
       "273  561967156  \n",
       "285  512617044  \n",
       "286  512617044  \n",
       "287  512617044  \n",
       "288  512617044  \n",
       "744  737198870  \n",
       "745  737198870  "
      ]
     },
     "execution_count": 21,
     "metadata": {},
     "output_type": "execute_result"
    }
   ],
   "source": [
    "duplicates = df_codes.duplicated()\n",
    "n_dup = duplicates.sum()\n",
    "\n",
    "print(f'Número de duplicatas: {n_dup}')\n",
    "\n",
    "duplicates = df_codes[df_codes.duplicated(keep=False)]\n",
    "\n",
    "duplicates"
   ]
  },
  {
   "cell_type": "code",
   "execution_count": 22,
   "metadata": {},
   "outputs": [
    {
     "data": {
      "text/plain": [
       "(878, 5)"
      ]
     },
     "execution_count": 22,
     "metadata": {},
     "output_type": "execute_result"
    }
   ],
   "source": [
    "df_codes = df_codes.drop_duplicates()\n",
    "df_codes.shape"
   ]
  },
  {
   "cell_type": "code",
   "execution_count": 25,
   "metadata": {},
   "outputs": [
    {
     "data": {
      "text/html": [
       "<div>\n",
       "<style scoped>\n",
       "    .dataframe tbody tr th:only-of-type {\n",
       "        vertical-align: middle;\n",
       "    }\n",
       "\n",
       "    .dataframe tbody tr th {\n",
       "        vertical-align: top;\n",
       "    }\n",
       "\n",
       "    .dataframe thead th {\n",
       "        text-align: right;\n",
       "    }\n",
       "</style>\n",
       "<table border=\"1\" class=\"dataframe\">\n",
       "  <thead>\n",
       "    <tr style=\"text-align: right;\">\n",
       "      <th></th>\n",
       "      <th>ml_sku</th>\n",
       "      <th>ml_inventory_id</th>\n",
       "      <th>ml_code</th>\n",
       "      <th>tiny_sku</th>\n",
       "      <th>tiny_id</th>\n",
       "    </tr>\n",
       "  </thead>\n",
       "  <tbody>\n",
       "    <tr>\n",
       "      <th>0</th>\n",
       "      <td>FULLP10NINJA10FTC</td>\n",
       "      <td>JFGN34621</td>\n",
       "      <td>MLB924922735</td>\n",
       "      <td>7899028808537</td>\n",
       "      <td>509517168</td>\n",
       "    </tr>\n",
       "    <tr>\n",
       "      <th>1</th>\n",
       "      <td>P10LNINJA10FT</td>\n",
       "      <td>ERIM51807</td>\n",
       "      <td>MLB949788598</td>\n",
       "      <td>7899028824407</td>\n",
       "      <td>598796832</td>\n",
       "    </tr>\n",
       "    <tr>\n",
       "      <th>2</th>\n",
       "      <td>FULLLWNINJA10FT</td>\n",
       "      <td>HVCS52763</td>\n",
       "      <td>MLB950214971</td>\n",
       "      <td>7899028808773</td>\n",
       "      <td>565287467</td>\n",
       "    </tr>\n",
       "  </tbody>\n",
       "</table>\n",
       "</div>"
      ],
      "text/plain": [
       "              ml_sku ml_inventory_id       ml_code       tiny_sku    tiny_id\n",
       "0  FULLP10NINJA10FTC       JFGN34621  MLB924922735  7899028808537  509517168\n",
       "1      P10LNINJA10FT       ERIM51807  MLB949788598  7899028824407  598796832\n",
       "2    FULLLWNINJA10FT       HVCS52763  MLB950214971  7899028808773  565287467"
      ]
     },
     "execution_count": 25,
     "metadata": {},
     "output_type": "execute_result"
    }
   ],
   "source": [
    "df_codes.head(3)"
   ]
  },
  {
   "cell_type": "markdown",
   "metadata": {},
   "source": [
    "## Populando tabela tiny_ml_codes no DB"
   ]
  },
  {
   "cell_type": "code",
   "execution_count": 28,
   "metadata": {},
   "outputs": [
    {
     "name": "stdout",
     "output_type": "stream",
     "text": [
      "Dados inseridos com sucesso!\n"
     ]
    }
   ],
   "source": [
    "\n",
    "# Ela contém a relação entre tiny_id e inventory_id do ML \n",
    "# e não permite pares de valores duplicados entre (ml_inventory_id, tiny_id)\n",
    "\n",
    "conn = psycopg2.connect(**db_config)\n",
    "\n",
    "cursor = conn.cursor()\n",
    "\n",
    "for index, row in df_codes.iterrows():\n",
    "    insert_query = sql.SQL(\"INSERT INTO tiny_ml_codes (ml_inventory_id, ml_code, ml_sku, tiny_id, tiny_sku) VALUES (%s, %s, %s, %s, %s)\")\n",
    "    cursor.execute(insert_query, (row['ml_inventory_id'], row['ml_code'], row['ml_sku'], row['tiny_id'], row['tiny_sku']))\n",
    "\n",
    "conn.commit()\n",
    "\n",
    "# Feche o cursor e a conexão\n",
    "cursor.close()\n",
    "conn.close()\n",
    "print('Dados inseridos com sucesso!')"
   ]
  },
  {
   "cell_type": "code",
   "execution_count": null,
   "metadata": {},
   "outputs": [],
   "source": []
  }
 ],
 "metadata": {
  "kernelspec": {
   "display_name": "venv",
   "language": "python",
   "name": "python3"
  },
  "language_info": {
   "codemirror_mode": {
    "name": "ipython",
    "version": 3
   },
   "file_extension": ".py",
   "mimetype": "text/x-python",
   "name": "python",
   "nbconvert_exporter": "python",
   "pygments_lexer": "ipython3",
   "version": "3.12.0"
  }
 },
 "nbformat": 4,
 "nbformat_minor": 2
}
