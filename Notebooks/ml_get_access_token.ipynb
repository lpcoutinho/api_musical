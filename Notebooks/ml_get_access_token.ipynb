{
 "cells": [
  {
   "cell_type": "markdown",
   "metadata": {},
   "source": [
    "#### 1. **Obtenha dados do aplicativo criado no DevCenter **Client ID** e **Secret Key** do Mercado Libre**\n",
    "#### 2. **Autorização e Validação**\n",
    "-[Documentação API Mercado Livre](https://developers.mercadolivre.com.br/pt_br/autenticacao-e-autorizacao)"
   ]
  },
  {
   "cell_type": "code",
   "execution_count": 1,
   "metadata": {},
   "outputs": [
    {
     "name": "stdout",
     "output_type": "stream",
     "text": [
      "https://auth.mercadolivre.com.br/authorization?response_type=code&client_id=6628000663056293&redirect_uri=https://apivendaseestoque.com.br\n"
     ]
    }
   ],
   "source": [
    "# Importando bibliotecas\n",
    "import requests\n",
    "import json\n",
    "import time\n",
    "import re\n",
    "import os\n",
    "\n",
    "\n",
    "from dotenv import load_dotenv\n",
    "\n",
    "load_dotenv()\n",
    "\n",
    "CLIENT_ID = os.getenv(\"CLIENT_ID\")\n",
    "SCRET_KEY = os.getenv(\"SCRET_KEY\")\n",
    "REDIRECT_URI = os.getenv(\"REDIRECT_URI\")\n",
    "\n",
    "start_prog = time.time()\n",
    "\n",
    "clientId = CLIENT_ID\n",
    "secretKey = SCRET_KEY\n",
    "redirectURI =  REDIRECT_URI\n",
    "\n",
    "auth_link = f'https://auth.mercadolivre.com.br/authorization?response_type=code&client_id={clientId}&redirect_uri={redirectURI}'\n",
    "print(auth_link)"
   ]
  },
  {
   "cell_type": "code",
   "execution_count": 8,
   "metadata": {},
   "outputs": [
    {
     "name": "stdout",
     "output_type": "stream",
     "text": [
      "TG-654912faf2350900017ed79a-233632476\n",
      "O campo 'refresh_token' não foi encontrado no JSON.\n",
      "{\"message\":\"Error validating grant. Your authorization code or refresh token is invalid\",\"error\":\"invalid_grant\",\"status\":400,\"cause\":[]}\n",
      "access_token: None\n",
      "{\"message\":\"unknown_error\",\"error\":\"\",\"status\":400,\"cause\":[]}\n"
     ]
    },
    {
     "ename": "IndexError",
     "evalue": "list index out of range",
     "output_type": "error",
     "traceback": [
      "\u001b[1;31m---------------------------------------------------------------------------\u001b[0m",
      "\u001b[1;31mIndexError\u001b[0m                                Traceback (most recent call last)",
      "\u001b[1;32mc:\\Users\\couti\\projetos\\api_musical\\Notebooks\\API_ML_AUTH_now.ipynb Cell 3\u001b[0m line \u001b[0;36m7\n\u001b[0;32m     <a href='vscode-notebook-cell:/c%3A/Users/couti/projetos/api_musical/Notebooks/API_ML_AUTH_now.ipynb#W2sZmlsZQ%3D%3D?line=66'>67</a>\u001b[0m end_pos \u001b[39m=\u001b[39m response\u001b[39m.\u001b[39mfind(\u001b[39m'\u001b[39m\u001b[39m,\u001b[39m\u001b[39m'\u001b[39m, start_pos)  \u001b[39m# Encontra onde termina \"id\"\u001b[39;00m\n\u001b[0;32m     <a href='vscode-notebook-cell:/c%3A/Users/couti/projetos/api_musical/Notebooks/API_ML_AUTH_now.ipynb#W2sZmlsZQ%3D%3D?line=68'>69</a>\u001b[0m \u001b[39m# Extraia o valor de \"id\"\u001b[39;00m\n\u001b[1;32m---> <a href='vscode-notebook-cell:/c%3A/Users/couti/projetos/api_musical/Notebooks/API_ML_AUTH_now.ipynb#W2sZmlsZQ%3D%3D?line=69'>70</a>\u001b[0m seller_id \u001b[39m=\u001b[39m response[start_pos:end_pos]\u001b[39m.\u001b[39;49msplit(\u001b[39m\"\u001b[39;49m\u001b[39m:\u001b[39;49m\u001b[39m\"\u001b[39;49m)[\u001b[39m1\u001b[39;49m]\n\u001b[0;32m     <a href='vscode-notebook-cell:/c%3A/Users/couti/projetos/api_musical/Notebooks/API_ML_AUTH_now.ipynb#W2sZmlsZQ%3D%3D?line=70'>71</a>\u001b[0m seller_id \u001b[39m=\u001b[39m seller_id\u001b[39m.\u001b[39mstrip()\u001b[39m.\u001b[39mstrip(\u001b[39m'\u001b[39m\u001b[39m\"\u001b[39m\u001b[39m'\u001b[39m)\n\u001b[0;32m     <a href='vscode-notebook-cell:/c%3A/Users/couti/projetos/api_musical/Notebooks/API_ML_AUTH_now.ipynb#W2sZmlsZQ%3D%3D?line=72'>73</a>\u001b[0m \u001b[39mprint\u001b[39m(\u001b[39mf\u001b[39m\u001b[39m'\u001b[39m\u001b[39mO valor de \u001b[39m\u001b[39m\"\u001b[39m\u001b[39mseller_id\u001b[39m\u001b[39m\"\u001b[39m\u001b[39m é: \u001b[39m\u001b[39m{\u001b[39;00mseller_id\u001b[39m}\u001b[39;00m\u001b[39m'\u001b[39m)\n",
      "\u001b[1;31mIndexError\u001b[0m: list index out of range"
     ]
    }
   ],
   "source": [
    "# Cole aqui o url gerado após a autorização\n",
    "url='https://apivendaseestoque.com.br/?code=TG-654912faf2350900017ed79a-233632476'\n",
    "\n",
    "match = re.search(r'code=(.*)', url)\n",
    "\n",
    "if match:\n",
    "    code = match.group(1)\n",
    "    print(code)\n",
    "else:\n",
    "    print(\"Nenhum valor encontrado entre 'code=' e '&state=' na string da URL.\")\n",
    "\n",
    "### Refresh Token \n",
    "url = \"https://api.mercadolibre.com/oauth/token\"\n",
    "\n",
    "payload = f'grant_type=authorization_code&client_id={clientId}&client_secret={secretKey}&code={code}&redirect_uri={redirectURI}'\n",
    "headers = {\n",
    "  'accept': 'application/json',\n",
    "  'content-type': 'application/x-www-form-urlencoded'\n",
    "}\n",
    "\n",
    "response = requests.request(\"POST\", url, headers=headers, data=payload)\n",
    "\n",
    "json_data = response.text\n",
    "data = json.loads(json_data)\n",
    "\n",
    "refresh_token = data.get('refresh_token')\n",
    "\n",
    "if refresh_token:\n",
    "    print('refresh_token: ',refresh_token)\n",
    "else:\n",
    "    print(\"O campo 'refresh_token' não foi encontrado no JSON.\")\n",
    "\n",
    "### Access token\n",
    "url = \"https://api.mercadolibre.com/oauth/token\"\n",
    "\n",
    "payload = f'grant_type=refresh_token&client_id={clientId}&client_secret={secretKey}&refresh_token={refresh_token}'\n",
    "headers = {\n",
    "  'accept': 'application/json',\n",
    "  'content-type': 'application/x-www-form-urlencoded'\n",
    "}\n",
    "\n",
    "response = requests.request(\"POST\", url, headers=headers, data=payload)\n",
    "\n",
    "print(response.text)\n",
    "\n",
    "json_data = response.text\n",
    "data = json.loads(json_data)\n",
    "\n",
    "access_token = data.get('access_token')\n",
    "print('access_token:', access_token)\n",
    "\n",
    "### Verificando dados da conta\n",
    "url = \"https://api.mercadolibre.com/users/me\"\n",
    "\n",
    "payload = {}\n",
    "headers = {\n",
    "  'Authorization': f'Bearer {access_token}'\n",
    "}\n",
    "\n",
    "response = requests.request(\"GET\", url, headers=headers, data=payload)\n",
    "response = response.text\n",
    "\n",
    "print(response)\n",
    "\n",
    "# Encontre a posição do início e fim do campo \"id\"\n",
    "start_pos = response.find('\"id\"')  # Encontra onde começa \"id\"\n",
    "end_pos = response.find(',', start_pos)  # Encontra onde termina \"id\"\n",
    "\n",
    "# Extraia o valor de \"id\"\n",
    "seller_id = response[start_pos:end_pos].split(\":\")[1]\n",
    "seller_id = seller_id.strip().strip('\"')\n",
    "\n",
    "print(f'O valor de \"seller_id\" é: {seller_id}')\n",
    "\n",
    "# Registra o tempo depois da execução\n",
    "end_prog = time.time()\n",
    "\n",
    "# Calcula o tempo decorrido\n",
    "elapsed_time = end_prog - start_prog\n",
    "\n",
    "print(f\"Tempo Total do processo: {elapsed_time / 60} minutos\")"
   ]
  },
  {
   "cell_type": "code",
   "execution_count": null,
   "metadata": {},
   "outputs": [],
   "source": []
  }
 ],
 "metadata": {
  "kernelspec": {
   "display_name": "venv",
   "language": "python",
   "name": "python3"
  },
  "language_info": {
   "codemirror_mode": {
    "name": "ipython",
    "version": 3
   },
   "file_extension": ".py",
   "mimetype": "text/x-python",
   "name": "python",
   "nbconvert_exporter": "python",
   "pygments_lexer": "ipython3",
   "version": "3.12.0"
  }
 },
 "nbformat": 4,
 "nbformat_minor": 2
}
